{
 "cells": [
  {
   "cell_type": "markdown",
   "id": "6aca61f7",
   "metadata": {},
   "source": [
    "# Import Libraries"
   ]
  },
  {
   "cell_type": "code",
   "execution_count": 63,
   "id": "139e1f5e",
   "metadata": {},
   "outputs": [],
   "source": [
    "import numpy as np\n",
    "import pandas as pd\n",
    "import seaborn as sns\n",
    "import matplotlib.pyplot as plt\n",
    "%matplotlib inline"
   ]
  },
  {
   "cell_type": "markdown",
   "id": "48bde70e",
   "metadata": {},
   "source": [
    "### Reading in CSV file"
   ]
  },
  {
   "cell_type": "code",
   "execution_count": 64,
   "id": "8dd5ef94",
   "metadata": {},
   "outputs": [],
   "source": [
    "df = pd.read_csv('data/mental-health-data.csv')"
   ]
  },
  {
   "cell_type": "code",
   "execution_count": 65,
   "id": "cf68db01",
   "metadata": {},
   "outputs": [
    {
     "data": {
      "text/html": [
       "<div>\n",
       "<style scoped>\n",
       "    .dataframe tbody tr th:only-of-type {\n",
       "        vertical-align: middle;\n",
       "    }\n",
       "\n",
       "    .dataframe tbody tr th {\n",
       "        vertical-align: top;\n",
       "    }\n",
       "\n",
       "    .dataframe thead th {\n",
       "        text-align: right;\n",
       "    }\n",
       "</style>\n",
       "<table border=\"1\" class=\"dataframe\">\n",
       "  <thead>\n",
       "    <tr style=\"text-align: right;\">\n",
       "      <th></th>\n",
       "      <th>Age</th>\n",
       "      <th>Gender</th>\n",
       "      <th>Family_History</th>\n",
       "      <th>Sought_Treatment</th>\n",
       "      <th>Interferes_Work</th>\n",
       "      <th>Emp_Provide_Resources</th>\n",
       "      <th>Negative_Consequence</th>\n",
       "      <th>Discuss_w_Coworkers</th>\n",
       "      <th>Discuss_w_Supervisor</th>\n",
       "    </tr>\n",
       "  </thead>\n",
       "  <tbody>\n",
       "    <tr>\n",
       "      <th>0</th>\n",
       "      <td>37</td>\n",
       "      <td>Female</td>\n",
       "      <td>No</td>\n",
       "      <td>Yes</td>\n",
       "      <td>Often</td>\n",
       "      <td>Yes</td>\n",
       "      <td>No</td>\n",
       "      <td>Some of them</td>\n",
       "      <td>Yes</td>\n",
       "    </tr>\n",
       "    <tr>\n",
       "      <th>1</th>\n",
       "      <td>44</td>\n",
       "      <td>M</td>\n",
       "      <td>No</td>\n",
       "      <td>No</td>\n",
       "      <td>Rarely</td>\n",
       "      <td>Don't know</td>\n",
       "      <td>Maybe</td>\n",
       "      <td>No</td>\n",
       "      <td>No</td>\n",
       "    </tr>\n",
       "    <tr>\n",
       "      <th>2</th>\n",
       "      <td>32</td>\n",
       "      <td>Male</td>\n",
       "      <td>No</td>\n",
       "      <td>No</td>\n",
       "      <td>Rarely</td>\n",
       "      <td>No</td>\n",
       "      <td>No</td>\n",
       "      <td>Yes</td>\n",
       "      <td>Yes</td>\n",
       "    </tr>\n",
       "    <tr>\n",
       "      <th>3</th>\n",
       "      <td>31</td>\n",
       "      <td>Male</td>\n",
       "      <td>Yes</td>\n",
       "      <td>Yes</td>\n",
       "      <td>Often</td>\n",
       "      <td>No</td>\n",
       "      <td>Yes</td>\n",
       "      <td>Some of them</td>\n",
       "      <td>No</td>\n",
       "    </tr>\n",
       "    <tr>\n",
       "      <th>4</th>\n",
       "      <td>31</td>\n",
       "      <td>Male</td>\n",
       "      <td>No</td>\n",
       "      <td>No</td>\n",
       "      <td>Never</td>\n",
       "      <td>Don't know</td>\n",
       "      <td>No</td>\n",
       "      <td>Some of them</td>\n",
       "      <td>Yes</td>\n",
       "    </tr>\n",
       "    <tr>\n",
       "      <th>...</th>\n",
       "      <td>...</td>\n",
       "      <td>...</td>\n",
       "      <td>...</td>\n",
       "      <td>...</td>\n",
       "      <td>...</td>\n",
       "      <td>...</td>\n",
       "      <td>...</td>\n",
       "      <td>...</td>\n",
       "      <td>...</td>\n",
       "    </tr>\n",
       "    <tr>\n",
       "      <th>1255</th>\n",
       "      <td>32</td>\n",
       "      <td>Male</td>\n",
       "      <td>Yes</td>\n",
       "      <td>Yes</td>\n",
       "      <td>Often</td>\n",
       "      <td>No</td>\n",
       "      <td>No</td>\n",
       "      <td>Some of them</td>\n",
       "      <td>Yes</td>\n",
       "    </tr>\n",
       "    <tr>\n",
       "      <th>1256</th>\n",
       "      <td>34</td>\n",
       "      <td>male</td>\n",
       "      <td>Yes</td>\n",
       "      <td>Yes</td>\n",
       "      <td>Sometimes</td>\n",
       "      <td>No</td>\n",
       "      <td>Yes</td>\n",
       "      <td>No</td>\n",
       "      <td>No</td>\n",
       "    </tr>\n",
       "    <tr>\n",
       "      <th>1257</th>\n",
       "      <td>46</td>\n",
       "      <td>f</td>\n",
       "      <td>No</td>\n",
       "      <td>No</td>\n",
       "      <td>NaN</td>\n",
       "      <td>No</td>\n",
       "      <td>Yes</td>\n",
       "      <td>No</td>\n",
       "      <td>No</td>\n",
       "    </tr>\n",
       "    <tr>\n",
       "      <th>1258</th>\n",
       "      <td>25</td>\n",
       "      <td>Male</td>\n",
       "      <td>Yes</td>\n",
       "      <td>Yes</td>\n",
       "      <td>Sometimes</td>\n",
       "      <td>No</td>\n",
       "      <td>Maybe</td>\n",
       "      <td>Some of them</td>\n",
       "      <td>No</td>\n",
       "    </tr>\n",
       "    <tr>\n",
       "      <th>1259</th>\n",
       "      <td>41</td>\n",
       "      <td>Male</td>\n",
       "      <td>No</td>\n",
       "      <td>No</td>\n",
       "      <td>Sometimes</td>\n",
       "      <td>No</td>\n",
       "      <td>Yes</td>\n",
       "      <td>Some of them</td>\n",
       "      <td>No</td>\n",
       "    </tr>\n",
       "  </tbody>\n",
       "</table>\n",
       "<p>1260 rows × 9 columns</p>\n",
       "</div>"
      ],
      "text/plain": [
       "      Age  Gender Family_History Sought_Treatment Interferes_Work  \\\n",
       "0      37  Female             No              Yes           Often   \n",
       "1      44       M             No               No          Rarely   \n",
       "2      32    Male             No               No          Rarely   \n",
       "3      31    Male            Yes              Yes           Often   \n",
       "4      31    Male             No               No           Never   \n",
       "...   ...     ...            ...              ...             ...   \n",
       "1255   32    Male            Yes              Yes           Often   \n",
       "1256   34    male            Yes              Yes       Sometimes   \n",
       "1257   46       f             No               No             NaN   \n",
       "1258   25    Male            Yes              Yes       Sometimes   \n",
       "1259   41    Male             No               No       Sometimes   \n",
       "\n",
       "     Emp_Provide_Resources Negative_Consequence Discuss_w_Coworkers  \\\n",
       "0                      Yes                   No        Some of them   \n",
       "1               Don't know                Maybe                  No   \n",
       "2                       No                   No                 Yes   \n",
       "3                       No                  Yes        Some of them   \n",
       "4               Don't know                   No        Some of them   \n",
       "...                    ...                  ...                 ...   \n",
       "1255                    No                   No        Some of them   \n",
       "1256                    No                  Yes                  No   \n",
       "1257                    No                  Yes                  No   \n",
       "1258                    No                Maybe        Some of them   \n",
       "1259                    No                  Yes        Some of them   \n",
       "\n",
       "     Discuss_w_Supervisor  \n",
       "0                     Yes  \n",
       "1                      No  \n",
       "2                     Yes  \n",
       "3                      No  \n",
       "4                     Yes  \n",
       "...                   ...  \n",
       "1255                  Yes  \n",
       "1256                   No  \n",
       "1257                   No  \n",
       "1258                   No  \n",
       "1259                   No  \n",
       "\n",
       "[1260 rows x 9 columns]"
      ]
     },
     "execution_count": 65,
     "metadata": {},
     "output_type": "execute_result"
    }
   ],
   "source": [
    "df"
   ]
  },
  {
   "cell_type": "markdown",
   "id": "7de8658e",
   "metadata": {},
   "source": [
    "# Data Cleaning"
   ]
  },
  {
   "cell_type": "code",
   "execution_count": 66,
   "id": "bd559828",
   "metadata": {},
   "outputs": [
    {
     "data": {
      "text/plain": [
       "array(['Female', 'M', 'Male', 'male', 'female', 'm', 'Male-ish', 'maile',\n",
       "       'Trans-female', 'Cis Female', 'F', 'something kinda male?',\n",
       "       'Cis Male', 'Woman', 'f', 'Mal', 'Male (CIS)', 'queer/she/they',\n",
       "       'non-binary', 'Femake', 'woman', 'Make', 'Nah', 'All', 'Enby',\n",
       "       'fluid', 'Genderqueer', 'Female ', 'Androgyne', 'Agender',\n",
       "       'cis-female/femme', 'Guy (-ish) ^_^', 'male leaning androgynous',\n",
       "       'Male ', 'Man', 'Trans woman', 'msle', 'Neuter', 'Female (trans)',\n",
       "       'queer', 'Female (cis)', 'Mail', 'cis male', 'A little about you',\n",
       "       'Malr', 'p', 'femail', 'Cis Man',\n",
       "       'ostensibly male, unsure what that really means'], dtype=object)"
      ]
     },
     "execution_count": 66,
     "metadata": {},
     "output_type": "execute_result"
    }
   ],
   "source": [
    "df['Gender'].unique()"
   ]
  },
  {
   "cell_type": "code",
   "execution_count": 67,
   "id": "0b3f7a3a",
   "metadata": {},
   "outputs": [],
   "source": [
    "df['Gender'].replace(['Female', 'female', 'Trans-female', 'Cis Female', 'F', 'Woman', 'f',\n",
    "                     'Femake', 'woman','Female ','cis-female/femme','Trans woman','Female (trans)',\n",
    "                     'Female (cis)', 'femail'], 'Female', inplace=True)"
   ]
  },
  {
   "cell_type": "code",
   "execution_count": 68,
   "id": "cdc38b8d",
   "metadata": {},
   "outputs": [],
   "source": [
    "df['Gender'].replace(['M','Male','male','m','Male-ish','maile','Cis Male','Mal','Male (CIS)',\n",
    "                     'Make','Man','msle','Mail','cis male','Malr','Cis Man','Make','Male '], 'Male', inplace=True)"
   ]
  },
  {
   "cell_type": "code",
   "execution_count": 69,
   "id": "5ad7c8ea",
   "metadata": {},
   "outputs": [],
   "source": [
    "df['Gender'].replace(['something kinda male?', 'queer/she/they','non-binary','Nah','All','Enby',\n",
    "                     'fluid','Genderqueer','Androgyne','Agender','Guy (-ish) ^_^',\n",
    "                     'male leaning androgynous','Neuter','queer','A little about you','p',\n",
    "                     'ostensibly male, unsure what that really means'], 'Other', inplace=True)"
   ]
  },
  {
   "cell_type": "code",
   "execution_count": 70,
   "id": "b48192fe",
   "metadata": {},
   "outputs": [
    {
     "name": "stdout",
     "output_type": "stream",
     "text": [
      "['Female' 'Male' 'Other']\n"
     ]
    }
   ],
   "source": [
    "print(df['Gender'].unique())"
   ]
  },
  {
   "cell_type": "code",
   "execution_count": 71,
   "id": "109e7873",
   "metadata": {},
   "outputs": [
    {
     "data": {
      "text/plain": [
       "array([         37,          44,          32,          31,          33,\n",
       "                35,          39,          42,          23,          29,\n",
       "                36,          27,          46,          41,          34,\n",
       "                30,          40,          38,          50,          24,\n",
       "                18,          28,          26,          22,          19,\n",
       "                25,          45,          21,         -29,          43,\n",
       "                56,          60,          54,         329,          55,\n",
       "       99999999999,          48,          20,          57,          58,\n",
       "                47,          62,          51,          65,          49,\n",
       "             -1726,           5,          53,          61,           8,\n",
       "                11,          -1,          72])"
      ]
     },
     "execution_count": 71,
     "metadata": {},
     "output_type": "execute_result"
    }
   ],
   "source": [
    "df['Age'].unique()"
   ]
  },
  {
   "cell_type": "code",
   "execution_count": 72,
   "id": "5b4e6825",
   "metadata": {},
   "outputs": [],
   "source": [
    "df.drop(df[df['Age'] < 0].index, inplace = True) \n",
    "df.drop(df[df['Age'] > 100].index, inplace = True)"
   ]
  },
  {
   "cell_type": "code",
   "execution_count": 73,
   "id": "e980e899",
   "metadata": {},
   "outputs": [
    {
     "data": {
      "text/plain": [
       "array([37, 44, 32, 31, 33, 35, 39, 42, 23, 29, 36, 27, 46, 41, 34, 30, 40,\n",
       "       38, 50, 24, 18, 28, 26, 22, 19, 25, 45, 21, 43, 56, 60, 54, 55, 48,\n",
       "       20, 57, 58, 47, 62, 51, 65, 49,  5, 53, 61,  8, 11, 72])"
      ]
     },
     "execution_count": 73,
     "metadata": {},
     "output_type": "execute_result"
    }
   ],
   "source": [
    "df['Age'].unique()"
   ]
  },
  {
   "cell_type": "code",
   "execution_count": 74,
   "id": "b45b740d",
   "metadata": {},
   "outputs": [
    {
     "data": {
      "text/html": [
       "<div>\n",
       "<style scoped>\n",
       "    .dataframe tbody tr th:only-of-type {\n",
       "        vertical-align: middle;\n",
       "    }\n",
       "\n",
       "    .dataframe tbody tr th {\n",
       "        vertical-align: top;\n",
       "    }\n",
       "\n",
       "    .dataframe thead th {\n",
       "        text-align: right;\n",
       "    }\n",
       "</style>\n",
       "<table border=\"1\" class=\"dataframe\">\n",
       "  <thead>\n",
       "    <tr style=\"text-align: right;\">\n",
       "      <th></th>\n",
       "      <th>Age</th>\n",
       "      <th>Gender</th>\n",
       "      <th>Family_History</th>\n",
       "      <th>Sought_Treatment</th>\n",
       "      <th>Interferes_Work</th>\n",
       "      <th>Emp_Provide_Resources</th>\n",
       "      <th>Negative_Consequence</th>\n",
       "      <th>Discuss_w_Coworkers</th>\n",
       "      <th>Discuss_w_Supervisor</th>\n",
       "    </tr>\n",
       "  </thead>\n",
       "  <tbody>\n",
       "    <tr>\n",
       "      <th>0</th>\n",
       "      <td>False</td>\n",
       "      <td>False</td>\n",
       "      <td>False</td>\n",
       "      <td>False</td>\n",
       "      <td>False</td>\n",
       "      <td>False</td>\n",
       "      <td>False</td>\n",
       "      <td>False</td>\n",
       "      <td>False</td>\n",
       "    </tr>\n",
       "    <tr>\n",
       "      <th>1</th>\n",
       "      <td>False</td>\n",
       "      <td>False</td>\n",
       "      <td>False</td>\n",
       "      <td>False</td>\n",
       "      <td>False</td>\n",
       "      <td>False</td>\n",
       "      <td>False</td>\n",
       "      <td>False</td>\n",
       "      <td>False</td>\n",
       "    </tr>\n",
       "    <tr>\n",
       "      <th>2</th>\n",
       "      <td>False</td>\n",
       "      <td>False</td>\n",
       "      <td>False</td>\n",
       "      <td>False</td>\n",
       "      <td>False</td>\n",
       "      <td>False</td>\n",
       "      <td>False</td>\n",
       "      <td>False</td>\n",
       "      <td>False</td>\n",
       "    </tr>\n",
       "    <tr>\n",
       "      <th>3</th>\n",
       "      <td>False</td>\n",
       "      <td>False</td>\n",
       "      <td>False</td>\n",
       "      <td>False</td>\n",
       "      <td>False</td>\n",
       "      <td>False</td>\n",
       "      <td>False</td>\n",
       "      <td>False</td>\n",
       "      <td>False</td>\n",
       "    </tr>\n",
       "    <tr>\n",
       "      <th>4</th>\n",
       "      <td>False</td>\n",
       "      <td>False</td>\n",
       "      <td>False</td>\n",
       "      <td>False</td>\n",
       "      <td>False</td>\n",
       "      <td>False</td>\n",
       "      <td>False</td>\n",
       "      <td>False</td>\n",
       "      <td>False</td>\n",
       "    </tr>\n",
       "    <tr>\n",
       "      <th>...</th>\n",
       "      <td>...</td>\n",
       "      <td>...</td>\n",
       "      <td>...</td>\n",
       "      <td>...</td>\n",
       "      <td>...</td>\n",
       "      <td>...</td>\n",
       "      <td>...</td>\n",
       "      <td>...</td>\n",
       "      <td>...</td>\n",
       "    </tr>\n",
       "    <tr>\n",
       "      <th>1255</th>\n",
       "      <td>False</td>\n",
       "      <td>False</td>\n",
       "      <td>False</td>\n",
       "      <td>False</td>\n",
       "      <td>False</td>\n",
       "      <td>False</td>\n",
       "      <td>False</td>\n",
       "      <td>False</td>\n",
       "      <td>False</td>\n",
       "    </tr>\n",
       "    <tr>\n",
       "      <th>1256</th>\n",
       "      <td>False</td>\n",
       "      <td>False</td>\n",
       "      <td>False</td>\n",
       "      <td>False</td>\n",
       "      <td>False</td>\n",
       "      <td>False</td>\n",
       "      <td>False</td>\n",
       "      <td>False</td>\n",
       "      <td>False</td>\n",
       "    </tr>\n",
       "    <tr>\n",
       "      <th>1257</th>\n",
       "      <td>False</td>\n",
       "      <td>False</td>\n",
       "      <td>False</td>\n",
       "      <td>False</td>\n",
       "      <td>True</td>\n",
       "      <td>False</td>\n",
       "      <td>False</td>\n",
       "      <td>False</td>\n",
       "      <td>False</td>\n",
       "    </tr>\n",
       "    <tr>\n",
       "      <th>1258</th>\n",
       "      <td>False</td>\n",
       "      <td>False</td>\n",
       "      <td>False</td>\n",
       "      <td>False</td>\n",
       "      <td>False</td>\n",
       "      <td>False</td>\n",
       "      <td>False</td>\n",
       "      <td>False</td>\n",
       "      <td>False</td>\n",
       "    </tr>\n",
       "    <tr>\n",
       "      <th>1259</th>\n",
       "      <td>False</td>\n",
       "      <td>False</td>\n",
       "      <td>False</td>\n",
       "      <td>False</td>\n",
       "      <td>False</td>\n",
       "      <td>False</td>\n",
       "      <td>False</td>\n",
       "      <td>False</td>\n",
       "      <td>False</td>\n",
       "    </tr>\n",
       "  </tbody>\n",
       "</table>\n",
       "<p>1255 rows × 9 columns</p>\n",
       "</div>"
      ],
      "text/plain": [
       "        Age  Gender  Family_History  Sought_Treatment  Interferes_Work  \\\n",
       "0     False   False           False             False            False   \n",
       "1     False   False           False             False            False   \n",
       "2     False   False           False             False            False   \n",
       "3     False   False           False             False            False   \n",
       "4     False   False           False             False            False   \n",
       "...     ...     ...             ...               ...              ...   \n",
       "1255  False   False           False             False            False   \n",
       "1256  False   False           False             False            False   \n",
       "1257  False   False           False             False             True   \n",
       "1258  False   False           False             False            False   \n",
       "1259  False   False           False             False            False   \n",
       "\n",
       "      Emp_Provide_Resources  Negative_Consequence  Discuss_w_Coworkers  \\\n",
       "0                     False                 False                False   \n",
       "1                     False                 False                False   \n",
       "2                     False                 False                False   \n",
       "3                     False                 False                False   \n",
       "4                     False                 False                False   \n",
       "...                     ...                   ...                  ...   \n",
       "1255                  False                 False                False   \n",
       "1256                  False                 False                False   \n",
       "1257                  False                 False                False   \n",
       "1258                  False                 False                False   \n",
       "1259                  False                 False                False   \n",
       "\n",
       "      Discuss_w_Supervisor  \n",
       "0                    False  \n",
       "1                    False  \n",
       "2                    False  \n",
       "3                    False  \n",
       "4                    False  \n",
       "...                    ...  \n",
       "1255                 False  \n",
       "1256                 False  \n",
       "1257                 False  \n",
       "1258                 False  \n",
       "1259                 False  \n",
       "\n",
       "[1255 rows x 9 columns]"
      ]
     },
     "execution_count": 74,
     "metadata": {},
     "output_type": "execute_result"
    }
   ],
   "source": [
    "df.isnull()"
   ]
  },
  {
   "cell_type": "code",
   "execution_count": 75,
   "id": "d5d402c1",
   "metadata": {},
   "outputs": [
    {
     "data": {
      "text/plain": [
       "Age                      False\n",
       "Gender                   False\n",
       "Family_History           False\n",
       "Sought_Treatment         False\n",
       "Interferes_Work           True\n",
       "Emp_Provide_Resources    False\n",
       "Negative_Consequence     False\n",
       "Discuss_w_Coworkers      False\n",
       "Discuss_w_Supervisor     False\n",
       "dtype: bool"
      ]
     },
     "execution_count": 75,
     "metadata": {},
     "output_type": "execute_result"
    }
   ],
   "source": [
    "df.isnull().any()"
   ]
  },
  {
   "cell_type": "code",
   "execution_count": 76,
   "id": "bcb841fe",
   "metadata": {},
   "outputs": [
    {
     "name": "stdout",
     "output_type": "stream",
     "text": [
      "['Often' 'Rarely' 'Never' 'Sometimes' nan]\n"
     ]
    }
   ],
   "source": [
    "print(df['Interferes_Work'].unique())"
   ]
  },
  {
   "cell_type": "code",
   "execution_count": 77,
   "id": "e6a422fc",
   "metadata": {},
   "outputs": [],
   "source": [
    "df['Interferes_Work'] = df['Interferes_Work'].fillna('Not sure')"
   ]
  },
  {
   "cell_type": "code",
   "execution_count": 78,
   "id": "54f2b93b",
   "metadata": {},
   "outputs": [
    {
     "name": "stdout",
     "output_type": "stream",
     "text": [
      "['Often' 'Rarely' 'Never' 'Sometimes' 'Not sure']\n"
     ]
    }
   ],
   "source": [
    "print(df['Interferes_Work'].unique())"
   ]
  },
  {
   "cell_type": "code",
   "execution_count": 79,
   "id": "90e05549",
   "metadata": {},
   "outputs": [
    {
     "data": {
      "text/plain": [
       "Age                      False\n",
       "Gender                   False\n",
       "Family_History           False\n",
       "Sought_Treatment         False\n",
       "Interferes_Work          False\n",
       "Emp_Provide_Resources    False\n",
       "Negative_Consequence     False\n",
       "Discuss_w_Coworkers      False\n",
       "Discuss_w_Supervisor     False\n",
       "dtype: bool"
      ]
     },
     "execution_count": 79,
     "metadata": {},
     "output_type": "execute_result"
    }
   ],
   "source": [
    "df.isnull().any()"
   ]
  },
  {
   "cell_type": "markdown",
   "id": "f0b7fd04",
   "metadata": {},
   "source": [
    "# Data Visualization"
   ]
  },
  {
   "cell_type": "code",
   "execution_count": 80,
   "id": "fd048fc1",
   "metadata": {},
   "outputs": [
    {
     "data": {
      "image/png": "[encoded data removed]",
      "text/plain": [
       "<Figure size 720x360 with 1 Axes>"
      ]
     },
     "metadata": {
      "needs_background": "light"
     },
     "output_type": "display_data"
    }
   ],
   "source": [
    "plt.figure(figsize = (10,5))\n",
    "sns.set_palette(\"PRGn\")\n",
    "sns.histplot(data = df, x=\"Age\")\n",
    "plt.show()"
   ]
  },
  {
   "cell_type": "code",
   "execution_count": 85,
   "id": "d3e32bc4",
   "metadata": {},
   "outputs": [
    {
     "data": {
      "image/png": "[encoded data removed]",
      "text/plain": [
       "<Figure size 576x432 with 1 Axes>"
      ]
     },
     "metadata": {
      "needs_background": "light"
     },
     "output_type": "display_data"
    }
   ],
   "source": [
    "plt.figure(figsize = (8,6))\n",
    "eda_percent = df['Negative_Consequence'].value_counts(normalize = True).rename_axis('Negative_Consequence').reset_index(name = 'Percentage')\n",
    "ax = sns.barplot(x = 'Negative_Consequence', y = 'Percentage', data = eda_percent, palette = 'cool')\n",
    "for p in ax.patches:\n",
    "    width = p.get_width()\n",
    "    height = p.get_height()\n",
    "    x, y = p.get_xy() \n",
    "    ax.annotate(f'{height:.0%}', (x + width/2, y + height*1.01), ha='center')\n",
    "    "
   ]
  },
  {
   "cell_type": "code",
   "execution_count": 86,
   "id": "67f7904c",
   "metadata": {},
   "outputs": [
    {
     "name": "stdout",
     "output_type": "stream",
     "text": [
      "Sometimes    465\n",
      "Not sure     263\n",
      "Never        213\n",
      "Rarely       173\n",
      "Often        141\n",
      "Name: Interferes_Work, dtype: int64\n"
     ]
    }
   ],
   "source": [
    "print(df['Interferes_Work'].value_counts())"
   ]
  },
  {
   "cell_type": "code",
   "execution_count": 88,
   "id": "fb4fc6d8",
   "metadata": {},
   "outputs": [
    {
     "data": {
      "image/png": "[encoded data removed]",
      "text/plain": [
       "<Figure size 432x288 with 1 Axes>"
      ]
     },
     "metadata": {},
     "output_type": "display_data"
    }
   ],
   "source": [
    "labels = ('Sometimes', 'Not Sure', 'Never', 'Rarely', 'Often' )\n",
    "sizes = 465, 263, 213, 173, 141\n",
    "\n",
    "fig1, ax1 = plt.subplots()\n",
    "ax1.pie(sizes, labels=labels, autopct='%1.0f%%', startangle=270)\n",
    "ax1.axis('equal')\n",
    "plt.show()"
   ]
  },
  {
   "cell_type": "markdown",
   "id": "d434cd99",
   "metadata": {},
   "source": [
    "## Creating Heatmap"
   ]
  },
  {
   "cell_type": "code",
   "execution_count": 89,
   "id": "2b9ba3d5",
   "metadata": {},
   "outputs": [],
   "source": [
    "df_heat = df[['Age', 'Gender', 'Family_History', 'Sought_Treatment', 'Interferes_Work', \n",
    "              'Emp_Provide_Resources','Negative_Consequence', 'Discuss_w_Coworkers',\n",
    "              'Discuss_w_Supervisor']].copy()"
   ]
  },
  {
   "cell_type": "code",
   "execution_count": 90,
   "id": "dca71cde",
   "metadata": {},
   "outputs": [],
   "source": [
    "from sklearn.preprocessing import LabelEncoder\n",
    "object_cols = ['Gender', 'Family_History', 'Sought_Treatment', 'Interferes_Work', \n",
    "              'Emp_Provide_Resources','Negative_Consequence', 'Discuss_w_Coworkers',\n",
    "              'Discuss_w_Supervisor']\n",
    "label_encoder = LabelEncoder()\n",
    "for col in object_cols:\n",
    "    label_encoder.fit(df[col])\n",
    "    df[col] = label_encoder.transform(df[col])"
   ]
  },
  {
   "cell_type": "code",
   "execution_count": 91,
   "id": "ce12019e",
   "metadata": {},
   "outputs": [
    {
     "data": {
      "text/html": [
       "<div>\n",
       "<style scoped>\n",
       "    .dataframe tbody tr th:only-of-type {\n",
       "        vertical-align: middle;\n",
       "    }\n",
       "\n",
       "    .dataframe tbody tr th {\n",
       "        vertical-align: top;\n",
       "    }\n",
       "\n",
       "    .dataframe thead th {\n",
       "        text-align: right;\n",
       "    }\n",
       "</style>\n",
       "<table border=\"1\" class=\"dataframe\">\n",
       "  <thead>\n",
       "    <tr style=\"text-align: right;\">\n",
       "      <th></th>\n",
       "      <th>Age</th>\n",
       "      <th>Gender</th>\n",
       "      <th>Family_History</th>\n",
       "      <th>Sought_Treatment</th>\n",
       "      <th>Interferes_Work</th>\n",
       "      <th>Emp_Provide_Resources</th>\n",
       "      <th>Negative_Consequence</th>\n",
       "      <th>Discuss_w_Coworkers</th>\n",
       "      <th>Discuss_w_Supervisor</th>\n",
       "    </tr>\n",
       "  </thead>\n",
       "  <tbody>\n",
       "    <tr>\n",
       "      <th>0</th>\n",
       "      <td>37</td>\n",
       "      <td>0</td>\n",
       "      <td>0</td>\n",
       "      <td>1</td>\n",
       "      <td>2</td>\n",
       "      <td>2</td>\n",
       "      <td>1</td>\n",
       "      <td>1</td>\n",
       "      <td>2</td>\n",
       "    </tr>\n",
       "    <tr>\n",
       "      <th>1</th>\n",
       "      <td>44</td>\n",
       "      <td>1</td>\n",
       "      <td>0</td>\n",
       "      <td>0</td>\n",
       "      <td>3</td>\n",
       "      <td>0</td>\n",
       "      <td>0</td>\n",
       "      <td>0</td>\n",
       "      <td>0</td>\n",
       "    </tr>\n",
       "    <tr>\n",
       "      <th>2</th>\n",
       "      <td>32</td>\n",
       "      <td>1</td>\n",
       "      <td>0</td>\n",
       "      <td>0</td>\n",
       "      <td>3</td>\n",
       "      <td>1</td>\n",
       "      <td>1</td>\n",
       "      <td>2</td>\n",
       "      <td>2</td>\n",
       "    </tr>\n",
       "    <tr>\n",
       "      <th>3</th>\n",
       "      <td>31</td>\n",
       "      <td>1</td>\n",
       "      <td>1</td>\n",
       "      <td>1</td>\n",
       "      <td>2</td>\n",
       "      <td>1</td>\n",
       "      <td>2</td>\n",
       "      <td>1</td>\n",
       "      <td>0</td>\n",
       "    </tr>\n",
       "    <tr>\n",
       "      <th>4</th>\n",
       "      <td>31</td>\n",
       "      <td>1</td>\n",
       "      <td>0</td>\n",
       "      <td>0</td>\n",
       "      <td>0</td>\n",
       "      <td>0</td>\n",
       "      <td>1</td>\n",
       "      <td>1</td>\n",
       "      <td>2</td>\n",
       "    </tr>\n",
       "    <tr>\n",
       "      <th>...</th>\n",
       "      <td>...</td>\n",
       "      <td>...</td>\n",
       "      <td>...</td>\n",
       "      <td>...</td>\n",
       "      <td>...</td>\n",
       "      <td>...</td>\n",
       "      <td>...</td>\n",
       "      <td>...</td>\n",
       "      <td>...</td>\n",
       "    </tr>\n",
       "    <tr>\n",
       "      <th>1255</th>\n",
       "      <td>32</td>\n",
       "      <td>1</td>\n",
       "      <td>1</td>\n",
       "      <td>1</td>\n",
       "      <td>2</td>\n",
       "      <td>1</td>\n",
       "      <td>1</td>\n",
       "      <td>1</td>\n",
       "      <td>2</td>\n",
       "    </tr>\n",
       "    <tr>\n",
       "      <th>1256</th>\n",
       "      <td>34</td>\n",
       "      <td>1</td>\n",
       "      <td>1</td>\n",
       "      <td>1</td>\n",
       "      <td>4</td>\n",
       "      <td>1</td>\n",
       "      <td>2</td>\n",
       "      <td>0</td>\n",
       "      <td>0</td>\n",
       "    </tr>\n",
       "    <tr>\n",
       "      <th>1257</th>\n",
       "      <td>46</td>\n",
       "      <td>0</td>\n",
       "      <td>0</td>\n",
       "      <td>0</td>\n",
       "      <td>1</td>\n",
       "      <td>1</td>\n",
       "      <td>2</td>\n",
       "      <td>0</td>\n",
       "      <td>0</td>\n",
       "    </tr>\n",
       "    <tr>\n",
       "      <th>1258</th>\n",
       "      <td>25</td>\n",
       "      <td>1</td>\n",
       "      <td>1</td>\n",
       "      <td>1</td>\n",
       "      <td>4</td>\n",
       "      <td>1</td>\n",
       "      <td>0</td>\n",
       "      <td>1</td>\n",
       "      <td>0</td>\n",
       "    </tr>\n",
       "    <tr>\n",
       "      <th>1259</th>\n",
       "      <td>41</td>\n",
       "      <td>1</td>\n",
       "      <td>0</td>\n",
       "      <td>0</td>\n",
       "      <td>4</td>\n",
       "      <td>1</td>\n",
       "      <td>2</td>\n",
       "      <td>1</td>\n",
       "      <td>0</td>\n",
       "    </tr>\n",
       "  </tbody>\n",
       "</table>\n",
       "<p>1255 rows × 9 columns</p>\n",
       "</div>"
      ],
      "text/plain": [
       "      Age  Gender  Family_History  Sought_Treatment  Interferes_Work  \\\n",
       "0      37       0               0                 1                2   \n",
       "1      44       1               0                 0                3   \n",
       "2      32       1               0                 0                3   \n",
       "3      31       1               1                 1                2   \n",
       "4      31       1               0                 0                0   \n",
       "...   ...     ...             ...               ...              ...   \n",
       "1255   32       1               1                 1                2   \n",
       "1256   34       1               1                 1                4   \n",
       "1257   46       0               0                 0                1   \n",
       "1258   25       1               1                 1                4   \n",
       "1259   41       1               0                 0                4   \n",
       "\n",
       "      Emp_Provide_Resources  Negative_Consequence  Discuss_w_Coworkers  \\\n",
       "0                         2                     1                    1   \n",
       "1                         0                     0                    0   \n",
       "2                         1                     1                    2   \n",
       "3                         1                     2                    1   \n",
       "4                         0                     1                    1   \n",
       "...                     ...                   ...                  ...   \n",
       "1255                      1                     1                    1   \n",
       "1256                      1                     2                    0   \n",
       "1257                      1                     2                    0   \n",
       "1258                      1                     0                    1   \n",
       "1259                      1                     2                    1   \n",
       "\n",
       "      Discuss_w_Supervisor  \n",
       "0                        2  \n",
       "1                        0  \n",
       "2                        2  \n",
       "3                        0  \n",
       "4                        2  \n",
       "...                    ...  \n",
       "1255                     2  \n",
       "1256                     0  \n",
       "1257                     0  \n",
       "1258                     0  \n",
       "1259                     0  \n",
       "\n",
       "[1255 rows x 9 columns]"
      ]
     },
     "execution_count": 91,
     "metadata": {},
     "output_type": "execute_result"
    }
   ],
   "source": [
    "df"
   ]
  },
  {
   "cell_type": "code",
   "execution_count": 93,
   "id": "d7525826",
   "metadata": {},
   "outputs": [
    {
     "data": {
      "text/plain": [
       "<AxesSubplot:>"
      ]
     },
     "execution_count": 93,
     "metadata": {},
     "output_type": "execute_result"
    },
    {
     "data": {
      "image/png": "[encoded data removed]",
      "text/plain": [
       "<Figure size 720x720 with 2 Axes>"
      ]
     },
     "metadata": {
      "needs_background": "light"
     },
     "output_type": "display_data"
    }
   ],
   "source": [
    "df_heat = df.corr()\n",
    "\n",
    "f, ax = plt.subplots(figsize=(10, 10))\n",
    "\n",
    "sns.heatmap(df_heat, cmap='Blues', center=0,\n",
    "            square=True, linewidths=0.5, cbar_kws={\"shrink\": .8}, annot = True)"
   ]
  },
  {
   "cell_type": "markdown",
   "id": "d564220f",
   "metadata": {},
   "source": [
    "# Decision Tree for Classification"
   ]
  },
  {
   "cell_type": "code",
   "execution_count": 114,
   "id": "196da1b8",
   "metadata": {},
   "outputs": [],
   "source": [
    "from sklearn.tree import DecisionTreeClassifier\n",
    "from sklearn import metrics\n",
    "from sklearn.model_selection import train_test_split\n",
    "from sklearn.metrics import accuracy_score\n",
    "from sklearn.tree import plot_tree\n",
    "from sklearn import preprocessing"
   ]
  },
  {
   "cell_type": "code",
   "execution_count": 115,
   "id": "45907d04",
   "metadata": {},
   "outputs": [],
   "source": [
    "categories =['Age', 'Gender', 'Family_History', 'Sought_Treatment', 'Interferes_Work', \n",
    "             'Emp_Provide_Resources','Negative_Consequence', 'Discuss_w_Coworkers', \n",
    "             'Discuss_w_Supervisor']"
   ]
  },
  {
   "cell_type": "code",
   "execution_count": 116,
   "id": "5e60dba3",
   "metadata": {},
   "outputs": [],
   "source": [
    "labelEncoder = preprocessing.LabelEncoder()"
   ]
  },
  {
   "cell_type": "code",
   "execution_count": 117,
   "id": "0b117cd8",
   "metadata": {},
   "outputs": [
    {
     "data": {
      "text/html": [
       "<div>\n",
       "<style scoped>\n",
       "    .dataframe tbody tr th:only-of-type {\n",
       "        vertical-align: middle;\n",
       "    }\n",
       "\n",
       "    .dataframe tbody tr th {\n",
       "        vertical-align: top;\n",
       "    }\n",
       "\n",
       "    .dataframe thead th {\n",
       "        text-align: right;\n",
       "    }\n",
       "</style>\n",
       "<table border=\"1\" class=\"dataframe\">\n",
       "  <thead>\n",
       "    <tr style=\"text-align: right;\">\n",
       "      <th></th>\n",
       "      <th>Age</th>\n",
       "      <th>Gender</th>\n",
       "      <th>Family_History</th>\n",
       "      <th>Sought_Treatment</th>\n",
       "      <th>Interferes_Work</th>\n",
       "      <th>Emp_Provide_Resources</th>\n",
       "      <th>Negative_Consequence</th>\n",
       "      <th>Discuss_w_Coworkers</th>\n",
       "      <th>Discuss_w_Supervisor</th>\n",
       "    </tr>\n",
       "  </thead>\n",
       "  <tbody>\n",
       "    <tr>\n",
       "      <th>0</th>\n",
       "      <td>37</td>\n",
       "      <td>0</td>\n",
       "      <td>0</td>\n",
       "      <td>1</td>\n",
       "      <td>2</td>\n",
       "      <td>2</td>\n",
       "      <td>1</td>\n",
       "      <td>1</td>\n",
       "      <td>2</td>\n",
       "    </tr>\n",
       "    <tr>\n",
       "      <th>1</th>\n",
       "      <td>44</td>\n",
       "      <td>1</td>\n",
       "      <td>0</td>\n",
       "      <td>0</td>\n",
       "      <td>3</td>\n",
       "      <td>0</td>\n",
       "      <td>0</td>\n",
       "      <td>0</td>\n",
       "      <td>0</td>\n",
       "    </tr>\n",
       "    <tr>\n",
       "      <th>2</th>\n",
       "      <td>32</td>\n",
       "      <td>1</td>\n",
       "      <td>0</td>\n",
       "      <td>0</td>\n",
       "      <td>3</td>\n",
       "      <td>1</td>\n",
       "      <td>1</td>\n",
       "      <td>2</td>\n",
       "      <td>2</td>\n",
       "    </tr>\n",
       "    <tr>\n",
       "      <th>3</th>\n",
       "      <td>31</td>\n",
       "      <td>1</td>\n",
       "      <td>1</td>\n",
       "      <td>1</td>\n",
       "      <td>2</td>\n",
       "      <td>1</td>\n",
       "      <td>2</td>\n",
       "      <td>1</td>\n",
       "      <td>0</td>\n",
       "    </tr>\n",
       "    <tr>\n",
       "      <th>4</th>\n",
       "      <td>31</td>\n",
       "      <td>1</td>\n",
       "      <td>0</td>\n",
       "      <td>0</td>\n",
       "      <td>0</td>\n",
       "      <td>0</td>\n",
       "      <td>1</td>\n",
       "      <td>1</td>\n",
       "      <td>2</td>\n",
       "    </tr>\n",
       "    <tr>\n",
       "      <th>...</th>\n",
       "      <td>...</td>\n",
       "      <td>...</td>\n",
       "      <td>...</td>\n",
       "      <td>...</td>\n",
       "      <td>...</td>\n",
       "      <td>...</td>\n",
       "      <td>...</td>\n",
       "      <td>...</td>\n",
       "      <td>...</td>\n",
       "    </tr>\n",
       "    <tr>\n",
       "      <th>1255</th>\n",
       "      <td>32</td>\n",
       "      <td>1</td>\n",
       "      <td>1</td>\n",
       "      <td>1</td>\n",
       "      <td>2</td>\n",
       "      <td>1</td>\n",
       "      <td>1</td>\n",
       "      <td>1</td>\n",
       "      <td>2</td>\n",
       "    </tr>\n",
       "    <tr>\n",
       "      <th>1256</th>\n",
       "      <td>34</td>\n",
       "      <td>1</td>\n",
       "      <td>1</td>\n",
       "      <td>1</td>\n",
       "      <td>4</td>\n",
       "      <td>1</td>\n",
       "      <td>2</td>\n",
       "      <td>0</td>\n",
       "      <td>0</td>\n",
       "    </tr>\n",
       "    <tr>\n",
       "      <th>1257</th>\n",
       "      <td>46</td>\n",
       "      <td>0</td>\n",
       "      <td>0</td>\n",
       "      <td>0</td>\n",
       "      <td>1</td>\n",
       "      <td>1</td>\n",
       "      <td>2</td>\n",
       "      <td>0</td>\n",
       "      <td>0</td>\n",
       "    </tr>\n",
       "    <tr>\n",
       "      <th>1258</th>\n",
       "      <td>25</td>\n",
       "      <td>1</td>\n",
       "      <td>1</td>\n",
       "      <td>1</td>\n",
       "      <td>4</td>\n",
       "      <td>1</td>\n",
       "      <td>0</td>\n",
       "      <td>1</td>\n",
       "      <td>0</td>\n",
       "    </tr>\n",
       "    <tr>\n",
       "      <th>1259</th>\n",
       "      <td>41</td>\n",
       "      <td>1</td>\n",
       "      <td>0</td>\n",
       "      <td>0</td>\n",
       "      <td>4</td>\n",
       "      <td>1</td>\n",
       "      <td>2</td>\n",
       "      <td>1</td>\n",
       "      <td>0</td>\n",
       "    </tr>\n",
       "  </tbody>\n",
       "</table>\n",
       "<p>1255 rows × 9 columns</p>\n",
       "</div>"
      ],
      "text/plain": [
       "      Age  Gender  Family_History  Sought_Treatment  Interferes_Work  \\\n",
       "0      37       0               0                 1                2   \n",
       "1      44       1               0                 0                3   \n",
       "2      32       1               0                 0                3   \n",
       "3      31       1               1                 1                2   \n",
       "4      31       1               0                 0                0   \n",
       "...   ...     ...             ...               ...              ...   \n",
       "1255   32       1               1                 1                2   \n",
       "1256   34       1               1                 1                4   \n",
       "1257   46       0               0                 0                1   \n",
       "1258   25       1               1                 1                4   \n",
       "1259   41       1               0                 0                4   \n",
       "\n",
       "      Emp_Provide_Resources  Negative_Consequence  Discuss_w_Coworkers  \\\n",
       "0                         2                     1                    1   \n",
       "1                         0                     0                    0   \n",
       "2                         1                     1                    2   \n",
       "3                         1                     2                    1   \n",
       "4                         0                     1                    1   \n",
       "...                     ...                   ...                  ...   \n",
       "1255                      1                     1                    1   \n",
       "1256                      1                     2                    0   \n",
       "1257                      1                     2                    0   \n",
       "1258                      1                     0                    1   \n",
       "1259                      1                     2                    1   \n",
       "\n",
       "      Discuss_w_Supervisor  \n",
       "0                        2  \n",
       "1                        0  \n",
       "2                        2  \n",
       "3                        0  \n",
       "4                        2  \n",
       "...                    ...  \n",
       "1255                     2  \n",
       "1256                     0  \n",
       "1257                     0  \n",
       "1258                     0  \n",
       "1259                     0  \n",
       "\n",
       "[1255 rows x 9 columns]"
      ]
     },
     "execution_count": 117,
     "metadata": {},
     "output_type": "execute_result"
    }
   ],
   "source": [
    "df"
   ]
  },
  {
   "cell_type": "code",
   "execution_count": 118,
   "id": "0db8312c",
   "metadata": {},
   "outputs": [
    {
     "name": "stdout",
     "output_type": "stream",
     "text": [
      "{'Age': {5: 0, 8: 1, 11: 2, 18: 3, 19: 4, 20: 5, 21: 6, 22: 7, 23: 8, 24: 9, 25: 10, 26: 11, 27: 12, 28: 13, 29: 14, 30: 15, 31: 16, 32: 17, 33: 18, 34: 19, 35: 20, 36: 21, 37: 22, 38: 23, 39: 24, 40: 25, 41: 26, 42: 27, 43: 28, 44: 29, 45: 30, 46: 31, 47: 32, 48: 33, 49: 34, 50: 35, 51: 36, 53: 37, 54: 38, 55: 39, 56: 40, 57: 41, 58: 42, 60: 43, 61: 44, 62: 45, 65: 46, 72: 47}, 'Gender': {0: 0, 1: 1, 2: 2}, 'Family_History': {0: 0, 1: 1}, 'Sought_Treatment': {0: 0, 1: 1}, 'Interferes_Work': {0: 0, 1: 1, 2: 2, 3: 3, 4: 4}, 'Emp_Provide_Resources': {0: 0, 1: 1, 2: 2}, 'Negative_Consequence': {0: 0, 1: 1, 2: 2}, 'Discuss_w_Coworkers': {0: 0, 1: 1, 2: 2}, 'Discuss_w_Supervisor': {0: 0, 1: 1, 2: 2}}\n"
     ]
    }
   ],
   "source": [
    "mapping_dict = {}\n",
    "for col in categories:\n",
    "    df[col] = labelEncoder.fit_transform(df[col])\n",
    "    name_mapping = dict(zip(labelEncoder.classes_, labelEncoder.transform(labelEncoder.classes_)))\n",
    "    mapping_dict[col] = name_mapping\n",
    "print(mapping_dict)"
   ]
  },
  {
   "cell_type": "code",
   "execution_count": 119,
   "id": "b56ab1d8",
   "metadata": {},
   "outputs": [],
   "source": [
    "X = df.values[:, 0:8]\n",
    "Y = df.values[:,8]"
   ]
  },
  {
   "cell_type": "code",
   "execution_count": 139,
   "id": "b01c0e04",
   "metadata": {},
   "outputs": [],
   "source": [
    "X_train, X_test, y_train, y_test = train_test_split(X, Y, test_size = 0.2, random_state = 100)"
   ]
  },
  {
   "cell_type": "code",
   "execution_count": 140,
   "id": "6526f095",
   "metadata": {},
   "outputs": [],
   "source": [
    "decision_tree = DecisionTreeClassifier(criterion=\"gini\", random_state=100, max_depth=4, min_samples_leaf=4)\n",
    "decision_tree = decision_tree.fit(X_train, y_train)\n",
    "y_prediction = decision_tree.predict(X_test)"
   ]
  },
  {
   "cell_type": "code",
   "execution_count": 144,
   "id": "5641380c",
   "metadata": {},
   "outputs": [
    {
     "name": "stdout",
     "output_type": "stream",
     "text": [
      "Accuracy using Gini Index:  62.15139442231076 %\n"
     ]
    }
   ],
   "source": [
    "print (\"Accuracy using Gini Index: \", accuracy_score(y_test,y_pred_gini)*100, \"%\" )"
   ]
  },
  {
   "cell_type": "code",
   "execution_count": 145,
   "id": "18e9ef74",
   "metadata": {},
   "outputs": [],
   "source": [
    "import pickle\n",
    "pickle.dump(decision_tree, open(\"model.pkl\",\"wb\"))"
   ]
  },
  {
   "cell_type": "code",
   "execution_count": null,
   "id": "bb6bce94",
   "metadata": {},
   "outputs": [],
   "source": []
  }
 ],
 "metadata": {
  "kernelspec": {
   "display_name": "Python 3 (ipykernel)",
   "language": "python",
   "name": "python3"
  },
  "language_info": {
   "codemirror_mode": {
    "name": "ipython",
    "version": 3
   },
   "file_extension": ".py",
   "mimetype": "text/x-python",
   "name": "python",
   "nbconvert_exporter": "python",
   "pygments_lexer": "ipython3",
   "version": "3.9.12"
  }
 },
 "nbformat": 4,
 "nbformat_minor": 5
}
